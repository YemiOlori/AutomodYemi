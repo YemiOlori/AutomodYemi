{
 "cells": [
  {
   "cell_type": "code",
   "execution_count": 1,
   "id": "6520a956-bf2f-46ae-8f23-a5640f879101",
   "metadata": {},
   "outputs": [],
   "source": [
    "from AutoMod import cli\n",
    "from AutoMod.ch_mod_tools import Clubhouse as ch"
   ]
  },
  {
   "cell_type": "code",
   "execution_count": null,
   "id": "2703c4bd-5172-4333-8182-8f684d82869a",
   "metadata": {},
   "outputs": [],
   "source": [
    "user_id = '541615340'\n",
    "user_token = 'aae900f6fd7f9e93c182ee1e9f201272226c5fbd'"
   ]
  },
  {
   "cell_type": "code",
   "execution_count": 2,
   "id": "6d6e6ba0-f8da-4b74-b117-f77bbcfc3ecd",
   "metadata": {},
   "outputs": [],
   "source": [
    "phone_number = '+16418540642'"
   ]
  },
  {
   "cell_type": "code",
   "execution_count": 3,
   "id": "09ecdca8-7a41-4f85-ac36-c5e3d6f1ce1b",
   "metadata": {},
   "outputs": [],
   "source": [
    "user = ch()"
   ]
  },
  {
   "cell_type": "code",
   "execution_count": null,
   "id": "6dde3ad7-0285-49fe-bf8e-4667464b1682",
   "metadata": {},
   "outputs": [],
   "source": [
    "cli_user = cli.write_config(user_id, user_token, user_device)"
   ]
  },
  {
   "cell_type": "code",
   "execution_count": null,
   "id": "082d8995-239a-452b-a748-b7409b2fce08",
   "metadata": {},
   "outputs": [],
   "source": [
    "cli.chat_main(user)"
   ]
  },
  {
   "cell_type": "code",
   "execution_count": null,
   "id": "82f1a593-8181-4f76-a3f3-04a3e5379f16",
   "metadata": {},
   "outputs": [],
   "source": [
    "import uuid"
   ]
  },
  {
   "cell_type": "code",
   "execution_count": null,
   "id": "bc9f96c4-a2c1-4169-b697-e9889365c399",
   "metadata": {},
   "outputs": [],
   "source": [
    "str(uuid.uuid4()).upper()"
   ]
  },
  {
   "cell_type": "code",
   "execution_count": null,
   "id": "ec3aead8-16df-4296-bc96-a6922ae6b645",
   "metadata": {},
   "outputs": [],
   "source": [
    "user_device"
   ]
  },
  {
   "cell_type": "code",
   "execution_count": null,
   "id": "fa6a5cbf-1b49-448a-b4ca-64d71f486143",
   "metadata": {},
   "outputs": [],
   "source": [
    "len(\"03AGdBq25c5tckr3br71hueGyyy3oqvlBFWbTOe8KdIWNMpLIUkF2IeTx04GKGgShy39VuJOIGP8rl41GmHOiEQaY8rQpvlpe71clVQB6wZBvaCETLnFFANvaoRlF22emhPCqNwLHW0WcsMdaORDQ9xqUFVv7FpylDerXbZvbLHINdXZ3pjatD3xprSqocKu_VFMeU-RG-a-OvE0stUYabflfLhClVR-172I0qW2qxEbnom9-QdF6L6w_OciNBGfTEENfNSkR5l5hkTreIsxJnp56CJlcGNZrxlywfJupSQTq-NGdIBgdurXgnzqVIzv3uyerYpklEBANkH9vtcYq8NRydJ7PW8dsqgeSmB8b8neTAkS2uhpICNgUQVEZFVxdzueJIY9XkvPfS-Dxd1tIeKI5R6vyepn_kcoXiXxu-l9u3u2WTdy3f5lXCUDK3xLBMpQHU0V8EiCrzmDSMzrA13Tuo7Bo4yer7_1SWCCzGLpyptX3fsFxTe_1d0DODsZXNQXcOZyzi1bqTtb2HgNgmcd_6JSBYOtaziFdRIEKF-PQjHihE2coVkiwq1wQqpFup9-aqvaKOOBQww6A7F8vXzskPlJg8VtCuKm61h6uB46axw_363TLf6wa36UyqOLrz4M4zhJ_UyJI5_Bqddcamh2NYi3i8M3tc7dirvkbiGpB3kSIqE5pVe8c-xtuX3WvQJQoXULshgcZURRcLmXIWfuMXo6Ysk2iqz4aApzQBoASw_97KhI6pg8HddPm8GRIIlf8uApprygTVUBThABxwzTiRtrsPOKYag3Y1PJjrEC4qqshBuvh7Vpb8ROfU47CHaZOzEvrALEyIrQ8fYkuDe3Dz9cPw-H_gSAIqt8kQqu6mPjzjysjPixggtp05Q7dqT0FsMqK9CWE_zbyiItG4coPIjsoaNzFBYg_eKnzo3QhavBY3pch-Xps1wuTU_WUwhDqPOo67vxsZrxhCBKrVHL-IRjK5fLarc0W5gnxxLxI2tLi1OkNKSWuJ5rf8yqus0dkGWz6xQAkstEFbhj4CpXpjh4VpTGeCVmfOmkcaTtleovmXc4ULL-GimdW_yJLCAL9ZgpEqgyXEMcR2gNQZGJYf4SEtpdCt7kSFhmqPNE-R6csknyzhUViQRiAry51wlmeyowXXs4KXYGhcjO1H1WMHfgvaLCmRDbXaajd2P1Uzr86sZowJgtVSesRcq34g_R2fyQSnyB5dUaH-sLaZ1Nc-_hiJ0SIpLqLhX3XaBQ3WbQyMaaGh2R0BhU_AONszsbta7-ArY9Hgb7kbUN8KrYvQkcgdn5yNBkSPbNpQcsVtKxMWc5qS5BRGhld8-Ao2vUiGXI-1T4D8cZY1kvmzo9Nfu5njKmt6z6BLc_FEWvEumcjRVe1PL6DgAkT1PprVUtUgl6-Q2ZKNDd1kc1x1ErS0OKd6KQcmJMsxqdzIhXBytyuwSKWdtKJWk88Vgfx0_R5cJQGl6t-fkHBkRvhDZ1TOle0-0LoI3Q\")\n",
    "len(\"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\")"
   ]
  },
  {
   "cell_type": "code",
   "execution_count": 4,
   "id": "67a86d5b-c6e3-400f-bb2e-9194787734d0",
   "metadata": {},
   "outputs": [
    {
     "data": {
      "text/plain": [
       "({'Date': 'Tue, 15 Mar 2022 00:08:44 GMT', 'Content-Type': 'application/json', 'Transfer-Encoding': 'chunked', 'Connection': 'keep-alive', 'allow': 'POST, OPTIONS', 'x-frame-options': 'DENY', 'x-content-type-options': 'nosniff', 'referrer-policy': 'same-origin', 'vary': 'Origin', 'CF-Cache-Status': 'DYNAMIC', 'Expect-CT': 'max-age=604800, report-uri=\"https://report-uri.cloudflare.com/cdn-cgi/beacon/expect-ct\"', 'Set-Cookie': '__cf_bm=ecBUz9fOA6VnuE80bNrWX1OynuenoyMd_1eQJfuIk5c-1647302924-0-AVClN35Y6JoEAa2F1ye2rd7ZBWrQWEmIBBOkEw9XsXSMbC69LnwIga8OdvstqONxuo68Ab47vxP+2ZNoXHTHKdw=; path=/; expires=Tue, 15-Mar-22 00:38:44 GMT; domain=.clubhouseapi.com; HttpOnly; Secure; SameSite=None', 'Server': 'cloudflare', 'CF-RAY': '6ec104245f68678c-DFW', 'Content-Encoding': 'gzip'},\n",
       " {'success': True,\n",
       "  'is_blocked': False,\n",
       "  'error_message': None,\n",
       "  'send_rc_token': True,\n",
       "  'num_digits': 6})"
      ]
     },
     "execution_count": 4,
     "metadata": {},
     "output_type": "execute_result"
    }
   ],
   "source": [
    "user.start_phone_number_auth(phone_number)"
   ]
  },
  {
   "cell_type": "code",
   "execution_count": null,
   "id": "94ff8d35-e47c-43b7-993d-5e80d8dfe409",
   "metadata": {},
   "outputs": [],
   "source": [
    "user.resend_phone_number_auth(phone_number)"
   ]
  },
  {
   "cell_type": "code",
   "execution_count": null,
   "id": "56c2e6a0-7911-4ae2-87c5-fa82fa23942d",
   "metadata": {},
   "outputs": [],
   "source": [
    "import random\n",
    "import secrets"
   ]
  },
  {
   "cell_type": "code",
   "execution_count": null,
   "id": "ff6d8c9c-e855-4feb-a066-c3ca9b15d577",
   "metadata": {},
   "outputs": [],
   "source": [
    "s = secrets.token_urlsafe(21)\n",
    "r = random.randint(1, 9)\n",
    "\n",
    "s\n",
    "r\n",
    "f\"__cfduid={s}{r}\""
   ]
  },
  {
   "cell_type": "code",
   "execution_count": null,
   "id": "9cd30702-57b7-45a2-9351-269938471d9c",
   "metadata": {},
   "outputs": [],
   "source": [
    "user.complete_phone_number_auth()"
   ]
  },
  {
   "cell_type": "code",
   "execution_count": null,
   "id": "313dd724-464f-40de-a927-4d4d7400260a",
   "metadata": {},
   "outputs": [],
   "source": []
  },
  {
   "cell_type": "code",
   "execution_count": null,
   "id": "4f1288d5-fe99-4fcf-be12-1ec933c7a0ff",
   "metadata": {},
   "outputs": [],
   "source": []
  },
  {
   "cell_type": "code",
   "execution_count": null,
   "id": "eeb4cc6a-a12d-4832-b0b1-1090b25adde6",
   "metadata": {},
   "outputs": [],
   "source": [
    "user.check_for_update()"
   ]
  },
  {
   "cell_type": "code",
   "execution_count": null,
   "id": "2fa8fb9c-0b05-4fd3-9e3b-1ae4477618d0",
   "metadata": {
    "tags": []
   },
   "outputs": [],
   "source": [
    "user.me()"
   ]
  },
  {
   "cell_type": "code",
   "execution_count": null,
   "id": "420d9d88-880b-46dc-9f9b-ada18190890a",
   "metadata": {
    "tags": []
   },
   "outputs": [],
   "source": [
    "feed = user.get_feed()"
   ]
  },
  {
   "cell_type": "code",
   "execution_count": null,
   "id": "277c0e4f-5aa7-49f6-95f2-78095e9b8255",
   "metadata": {
    "tags": []
   },
   "outputs": [],
   "source": [
    "feed"
   ]
  },
  {
   "cell_type": "code",
   "execution_count": null,
   "id": "93dc50e6-35da-4497-aa25-01f37284db2f",
   "metadata": {},
   "outputs": [],
   "source": [
    "type(feed['items'])"
   ]
  },
  {
   "cell_type": "code",
   "execution_count": null,
   "id": "413ed399-bf88-4113-a6af-01d0278d291e",
   "metadata": {},
   "outputs": [],
   "source": [
    "channel_list = []\n",
    "for feed_item in feed['items']:\n",
    "    \n",
    "    key = feed_item.keys()\n",
    "    if 'channel' in key:\n",
    "        channel_list.append(feed_item)"
   ]
  },
  {
   "cell_type": "code",
   "execution_count": null,
   "id": "92fffb66-3758-4b70-888b-634437864f4a",
   "metadata": {
    "tags": []
   },
   "outputs": [],
   "source": [
    "channel_list"
   ]
  },
  {
   "cell_type": "code",
   "execution_count": null,
   "id": "51cdf33b-d632-4540-bda0-b3d2f43f1797",
   "metadata": {
    "tags": []
   },
   "outputs": [],
   "source": [
    "for channel in channel_list:\n",
    "    print(channel['channel'])"
   ]
  },
  {
   "cell_type": "code",
   "execution_count": null,
   "id": "dd89aeee-c318-4bd8-a243-a6883dd8a954",
   "metadata": {
    "tags": []
   },
   "outputs": [],
   "source": [
    "user.join_channel(channel='myyDVrO4')"
   ]
  },
  {
   "cell_type": "code",
   "execution_count": null,
   "id": "bb71f2f1-553b-4f52-a905-bd8ad0b4a647",
   "metadata": {},
   "outputs": [],
   "source": [
    "user.audience_reply(channel='myyDVrO4', raise_hands='true', unraise_hands='false')"
   ]
  },
  {
   "cell_type": "code",
   "execution_count": null,
   "id": "57449cb1-d482-484d-9dc2-be3a4e79cfe4",
   "metadata": {},
   "outputs": [],
   "source": [
    "user.accept_speaker_invite(channel='myyDVrO4', user_id=541615340)"
   ]
  },
  {
   "cell_type": "code",
   "execution_count": null,
   "id": "82df85aa-1d99-4732-bc47-31cbfec9078e",
   "metadata": {
    "tags": []
   },
   "outputs": [],
   "source": [
    "user.get_notifications()"
   ]
  },
  {
   "cell_type": "code",
   "execution_count": null,
   "id": "0b6a6942-7102-46e8-8648-f1741da7d686",
   "metadata": {},
   "outputs": [],
   "source": [
    "user.follow(2350087)"
   ]
  },
  {
   "cell_type": "code",
   "execution_count": null,
   "id": "3d580a0e-e9cd-4617-a386-88250ade8ce1",
   "metadata": {},
   "outputs": [],
   "source": [
    "cli.chat_main(user)"
   ]
  },
  {
   "cell_type": "code",
   "execution_count": null,
   "id": "62861df1-a7f4-493b-9ebb-ad0168d8d960",
   "metadata": {},
   "outputs": [],
   "source": []
  }
 ],
 "metadata": {
  "kernelspec": {
   "display_name": "Python 3 (ipykernel)",
   "language": "python",
   "name": "python3"
  },
  "language_info": {
   "codemirror_mode": {
    "name": "ipython",
    "version": 3
   },
   "file_extension": ".py",
   "mimetype": "text/x-python",
   "name": "python",
   "nbconvert_exporter": "python",
   "pygments_lexer": "ipython3",
   "version": "3.7.9"
  }
 },
 "nbformat": 4,
 "nbformat_minor": 5
}
